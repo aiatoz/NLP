{
  "nbformat": 4,
  "nbformat_minor": 0,
  "metadata": {
    "colab": {
      "provenance": [],
      "gpuType": "T4",
      "authorship_tag": "ABX9TyPaX5uCxbqGkBT/5Tq0rKUi",
      "include_colab_link": true
    },
    "kernelspec": {
      "name": "python3",
      "display_name": "Python 3"
    },
    "language_info": {
      "name": "python"
    },
    "accelerator": "GPU"
  },
  "cells": [
    {
      "cell_type": "markdown",
      "metadata": {
        "id": "view-in-github",
        "colab_type": "text"
      },
      "source": [
        "<a href=\"https://colab.research.google.com/github/aiatoz/NLP/blob/main/base.ipynb\" target=\"_parent\"><img src=\"https://colab.research.google.com/assets/colab-badge.svg\" alt=\"Open In Colab\"/></a>"
      ]
    },
    {
      "cell_type": "code",
      "source": [
        "#This is an open source project to ground an LLM on Web Data and to query regarding the Web Data\n",
        "\n",
        "#Due to limited compute I've restricted the context length to 2048. Feel free to increase it if you've enough computing power. The default 2048 will work just fine with T4 GPU"
      ],
      "metadata": {
        "id": "6X3Tva2Krb-h"
      },
      "execution_count": 1,
      "outputs": []
    },
    {
      "cell_type": "code",
      "source": [
        "#Installing dependencies\n",
        "\n",
        "!pip install -U BeautifulSoup\n",
        "!pip install -U urllib3\n",
        "!pip install ctransformers[cuda]"
      ],
      "metadata": {
        "id": "Y0mYmkFtsuyY"
      },
      "execution_count": null,
      "outputs": []
    },
    {
      "cell_type": "code",
      "execution_count": null,
      "metadata": {
        "id": "leaX9gy6oJ-W"
      },
      "outputs": [],
      "source": [
        "# -*- coding: utf-8 -*-\n",
        "\"\"\"\n",
        "Created on Sat Oct 28 14:18:34 2023\n",
        "\n",
        "@author: Krishna\n",
        "\"\"\"\n",
        "\n",
        "#Scraping and filtering out data\n",
        "\n",
        "#Url lib page : https://pypi.org/project/urllib3/\n",
        "#BeautifulSoup lib page : https://pypi.org/project/beautifulsoup4/\n",
        "\n",
        "#Additional Details\n",
        "\n",
        "from bs4 import BeautifulSoup\n",
        "from bs4.element import Comment\n",
        "import urllib3\n",
        "\n",
        "\n",
        "def filterTag(element):\n",
        "    if element.parent.name in ['style', 'script', 'head', 'title', 'meta', '[document]']:\n",
        "        return False\n",
        "    if isinstance(element, Comment):\n",
        "        return False\n",
        "    return True\n",
        "\n",
        "\n",
        "def htmlToText(body):\n",
        "    soup = BeautifulSoup(body, 'html.parser')\n",
        "    texts = soup.find_all(string=True)\n",
        "    visible_texts = filter(filterTag, texts)\n",
        "    return u\" \".join(t.strip() for t in visible_texts)\n",
        "\n",
        "req = urllib3.PoolManager()\n",
        "response = req.request('GET', \"https://en.wikipedia.org/wiki/Smooth_toadfish\")\n",
        "htmlContent = response.data\n",
        "#html = BeautifulSoup(res.data, 'html.parser')\n",
        "\n",
        "scrapedText = htmlToText(htmlContent)\n",
        "print(scrapedText)\n"
      ]
    }
  ]
}