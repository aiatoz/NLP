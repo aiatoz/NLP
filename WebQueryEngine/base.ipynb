{
  "nbformat": 4,
  "nbformat_minor": 0,
  "metadata": {
    "colab": {
      "provenance": [],
      "gpuType": "T4",
      "authorship_tag": "ABX9TyOfJ4POfKQ7xV3KU6g6xCmI",
      "include_colab_link": true
    },
    "kernelspec": {
      "name": "python3",
      "display_name": "Python 3"
    },
    "language_info": {
      "name": "python"
    },
    "accelerator": "GPU"
  },
  "cells": [
    {
      "cell_type": "markdown",
      "metadata": {
        "id": "view-in-github",
        "colab_type": "text"
      },
      "source": [
        "<a href=\"https://colab.research.google.com/github/aiatoz/NLP/blob/main/WebQueryEngine/base.ipynb\" target=\"_parent\"><img src=\"https://colab.research.google.com/assets/colab-badge.svg\" alt=\"Open In Colab\"/></a>"
      ]
    },
    {
      "cell_type": "markdown",
      "source": [
        "#This is an open source project to ground an LLM on Web Data for querying\n",
        "\n",
        "Due to limited compute I've restricted the context length to 2048. Feel free to increase it if you've enough computing power. The default context length of 2048 will work just fine with a T4 GPU\n",
        "\n",
        "For more details reagrding the libraries used, please refer\n",
        "\n",
        "Url lib : https://pypi.org/project/urllib3/\n",
        "\n",
        "BeautifulSoup : https://pypi.org/project/beautifulsoup4/\n",
        "\n",
        "ctransformers : https://pypi.org/project/ctransformers/"
      ],
      "metadata": {
        "id": "FxKm9uQ3tfzA"
      }
    },
    {
      "cell_type": "code",
      "source": [
        "# -*- coding: utf-8 -*-\n",
        "\"\"\"\n",
        "Created on Sat Oct 28 14:18:34 2023\n",
        "\n",
        "@author: Krishna\n",
        "\"\"\"\n",
        "\n",
        "\n",
        "#Installing dependencies\n",
        "\n",
        "!pip install -U BeautifulSoup #Version 4\n",
        "!pip install -U urllib3\n",
        "!pip install ctransformers[cuda]"
      ],
      "metadata": {
        "id": "Y0mYmkFtsuyY"
      },
      "execution_count": null,
      "outputs": []
    },
    {
      "cell_type": "markdown",
      "source": [
        "Scraping and filtering out data"
      ],
      "metadata": {
        "id": "ZjdILjVnt14P"
      }
    },
    {
      "cell_type": "code",
      "execution_count": null,
      "metadata": {
        "id": "leaX9gy6oJ-W"
      },
      "outputs": [],
      "source": [
        "from bs4 import BeautifulSoup\n",
        "from bs4.element import Comment\n",
        "import urllib3\n",
        "\n",
        "\n",
        "def filterTag(element):\n",
        "    if element.parent.name in ['style', 'script', 'head', 'title', 'meta', '[document]']:\n",
        "        return False\n",
        "    if isinstance(element, Comment):\n",
        "        return False\n",
        "    return True\n",
        "\n",
        "\n",
        "def htmlToText(body):\n",
        "    soup = BeautifulSoup(body, 'html.parser')\n",
        "    texts = soup.find_all(string=True)\n",
        "    visible_texts = filter(filterTag, texts)\n",
        "    return u\" \".join(t.strip() for t in visible_texts)\n",
        "\n",
        "req = urllib3.PoolManager()\n",
        "response = req.request('GET', \"https://en.wikipedia.org/wiki/Smooth_toadfish\")\n",
        "htmlContent = response.data\n",
        "\n",
        "scrapedText = htmlToText(htmlContent)\n",
        "print(scrapedText)\n"
      ]
    }
  ]
}