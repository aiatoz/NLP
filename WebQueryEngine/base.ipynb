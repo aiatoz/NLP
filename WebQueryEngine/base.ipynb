{
  "nbformat": 4,
  "nbformat_minor": 0,
  "metadata": {
    "colab": {
      "provenance": [],
      "gpuType": "T4",
      "authorship_tag": "ABX9TyO+Hr36e71D8x5SMLOPF47D",
      "include_colab_link": true
    },
    "kernelspec": {
      "name": "python3",
      "display_name": "Python 3"
    },
    "language_info": {
      "name": "python"
    },
    "accelerator": "GPU",
    "widgets": {
      "application/vnd.jupyter.widget-state+json": {
        "b7f8b3961f684aff83686f7fa4721294": {
          "model_module": "@jupyter-widgets/controls",
          "model_name": "HBoxModel",
          "model_module_version": "1.5.0",
          "state": {
            "_dom_classes": [],
            "_model_module": "@jupyter-widgets/controls",
            "_model_module_version": "1.5.0",
            "_model_name": "HBoxModel",
            "_view_count": null,
            "_view_module": "@jupyter-widgets/controls",
            "_view_module_version": "1.5.0",
            "_view_name": "HBoxView",
            "box_style": "",
            "children": [
              "IPY_MODEL_59557f2f880b43019359aa34e904404c",
              "IPY_MODEL_b7d55e536b8849999302cac636da9fbd",
              "IPY_MODEL_4a02a53282c049399694c954482bff37"
            ],
            "layout": "IPY_MODEL_c26ebdbccdfe49afafa890eef40ce570"
          }
        },
        "59557f2f880b43019359aa34e904404c": {
          "model_module": "@jupyter-widgets/controls",
          "model_name": "HTMLModel",
          "model_module_version": "1.5.0",
          "state": {
            "_dom_classes": [],
            "_model_module": "@jupyter-widgets/controls",
            "_model_module_version": "1.5.0",
            "_model_name": "HTMLModel",
            "_view_count": null,
            "_view_module": "@jupyter-widgets/controls",
            "_view_module_version": "1.5.0",
            "_view_name": "HTMLView",
            "description": "",
            "description_tooltip": null,
            "layout": "IPY_MODEL_bd04125bd4bc4d19bebd27115637acc1",
            "placeholder": "​",
            "style": "IPY_MODEL_4298b8ff7d234ef5a0279d8e08fa6807",
            "value": "Fetching 1 files: 100%"
          }
        },
        "b7d55e536b8849999302cac636da9fbd": {
          "model_module": "@jupyter-widgets/controls",
          "model_name": "FloatProgressModel",
          "model_module_version": "1.5.0",
          "state": {
            "_dom_classes": [],
            "_model_module": "@jupyter-widgets/controls",
            "_model_module_version": "1.5.0",
            "_model_name": "FloatProgressModel",
            "_view_count": null,
            "_view_module": "@jupyter-widgets/controls",
            "_view_module_version": "1.5.0",
            "_view_name": "ProgressView",
            "bar_style": "success",
            "description": "",
            "description_tooltip": null,
            "layout": "IPY_MODEL_5becf8e29ab344e08d93478f60a6df98",
            "max": 1,
            "min": 0,
            "orientation": "horizontal",
            "style": "IPY_MODEL_883d3c0c47bf455bb41e1e7714a5a795",
            "value": 1
          }
        },
        "4a02a53282c049399694c954482bff37": {
          "model_module": "@jupyter-widgets/controls",
          "model_name": "HTMLModel",
          "model_module_version": "1.5.0",
          "state": {
            "_dom_classes": [],
            "_model_module": "@jupyter-widgets/controls",
            "_model_module_version": "1.5.0",
            "_model_name": "HTMLModel",
            "_view_count": null,
            "_view_module": "@jupyter-widgets/controls",
            "_view_module_version": "1.5.0",
            "_view_name": "HTMLView",
            "description": "",
            "description_tooltip": null,
            "layout": "IPY_MODEL_1b33c4440d3e4a2aae5cf46c5e3f0fa2",
            "placeholder": "​",
            "style": "IPY_MODEL_03ca4f2b0bf94f969ae34bcab25a67fa",
            "value": " 1/1 [00:00&lt;00:00, 35.16it/s]"
          }
        },
        "c26ebdbccdfe49afafa890eef40ce570": {
          "model_module": "@jupyter-widgets/base",
          "model_name": "LayoutModel",
          "model_module_version": "1.2.0",
          "state": {
            "_model_module": "@jupyter-widgets/base",
            "_model_module_version": "1.2.0",
            "_model_name": "LayoutModel",
            "_view_count": null,
            "_view_module": "@jupyter-widgets/base",
            "_view_module_version": "1.2.0",
            "_view_name": "LayoutView",
            "align_content": null,
            "align_items": null,
            "align_self": null,
            "border": null,
            "bottom": null,
            "display": null,
            "flex": null,
            "flex_flow": null,
            "grid_area": null,
            "grid_auto_columns": null,
            "grid_auto_flow": null,
            "grid_auto_rows": null,
            "grid_column": null,
            "grid_gap": null,
            "grid_row": null,
            "grid_template_areas": null,
            "grid_template_columns": null,
            "grid_template_rows": null,
            "height": null,
            "justify_content": null,
            "justify_items": null,
            "left": null,
            "margin": null,
            "max_height": null,
            "max_width": null,
            "min_height": null,
            "min_width": null,
            "object_fit": null,
            "object_position": null,
            "order": null,
            "overflow": null,
            "overflow_x": null,
            "overflow_y": null,
            "padding": null,
            "right": null,
            "top": null,
            "visibility": null,
            "width": null
          }
        },
        "bd04125bd4bc4d19bebd27115637acc1": {
          "model_module": "@jupyter-widgets/base",
          "model_name": "LayoutModel",
          "model_module_version": "1.2.0",
          "state": {
            "_model_module": "@jupyter-widgets/base",
            "_model_module_version": "1.2.0",
            "_model_name": "LayoutModel",
            "_view_count": null,
            "_view_module": "@jupyter-widgets/base",
            "_view_module_version": "1.2.0",
            "_view_name": "LayoutView",
            "align_content": null,
            "align_items": null,
            "align_self": null,
            "border": null,
            "bottom": null,
            "display": null,
            "flex": null,
            "flex_flow": null,
            "grid_area": null,
            "grid_auto_columns": null,
            "grid_auto_flow": null,
            "grid_auto_rows": null,
            "grid_column": null,
            "grid_gap": null,
            "grid_row": null,
            "grid_template_areas": null,
            "grid_template_columns": null,
            "grid_template_rows": null,
            "height": null,
            "justify_content": null,
            "justify_items": null,
            "left": null,
            "margin": null,
            "max_height": null,
            "max_width": null,
            "min_height": null,
            "min_width": null,
            "object_fit": null,
            "object_position": null,
            "order": null,
            "overflow": null,
            "overflow_x": null,
            "overflow_y": null,
            "padding": null,
            "right": null,
            "top": null,
            "visibility": null,
            "width": null
          }
        },
        "4298b8ff7d234ef5a0279d8e08fa6807": {
          "model_module": "@jupyter-widgets/controls",
          "model_name": "DescriptionStyleModel",
          "model_module_version": "1.5.0",
          "state": {
            "_model_module": "@jupyter-widgets/controls",
            "_model_module_version": "1.5.0",
            "_model_name": "DescriptionStyleModel",
            "_view_count": null,
            "_view_module": "@jupyter-widgets/base",
            "_view_module_version": "1.2.0",
            "_view_name": "StyleView",
            "description_width": ""
          }
        },
        "5becf8e29ab344e08d93478f60a6df98": {
          "model_module": "@jupyter-widgets/base",
          "model_name": "LayoutModel",
          "model_module_version": "1.2.0",
          "state": {
            "_model_module": "@jupyter-widgets/base",
            "_model_module_version": "1.2.0",
            "_model_name": "LayoutModel",
            "_view_count": null,
            "_view_module": "@jupyter-widgets/base",
            "_view_module_version": "1.2.0",
            "_view_name": "LayoutView",
            "align_content": null,
            "align_items": null,
            "align_self": null,
            "border": null,
            "bottom": null,
            "display": null,
            "flex": null,
            "flex_flow": null,
            "grid_area": null,
            "grid_auto_columns": null,
            "grid_auto_flow": null,
            "grid_auto_rows": null,
            "grid_column": null,
            "grid_gap": null,
            "grid_row": null,
            "grid_template_areas": null,
            "grid_template_columns": null,
            "grid_template_rows": null,
            "height": null,
            "justify_content": null,
            "justify_items": null,
            "left": null,
            "margin": null,
            "max_height": null,
            "max_width": null,
            "min_height": null,
            "min_width": null,
            "object_fit": null,
            "object_position": null,
            "order": null,
            "overflow": null,
            "overflow_x": null,
            "overflow_y": null,
            "padding": null,
            "right": null,
            "top": null,
            "visibility": null,
            "width": null
          }
        },
        "883d3c0c47bf455bb41e1e7714a5a795": {
          "model_module": "@jupyter-widgets/controls",
          "model_name": "ProgressStyleModel",
          "model_module_version": "1.5.0",
          "state": {
            "_model_module": "@jupyter-widgets/controls",
            "_model_module_version": "1.5.0",
            "_model_name": "ProgressStyleModel",
            "_view_count": null,
            "_view_module": "@jupyter-widgets/base",
            "_view_module_version": "1.2.0",
            "_view_name": "StyleView",
            "bar_color": null,
            "description_width": ""
          }
        },
        "1b33c4440d3e4a2aae5cf46c5e3f0fa2": {
          "model_module": "@jupyter-widgets/base",
          "model_name": "LayoutModel",
          "model_module_version": "1.2.0",
          "state": {
            "_model_module": "@jupyter-widgets/base",
            "_model_module_version": "1.2.0",
            "_model_name": "LayoutModel",
            "_view_count": null,
            "_view_module": "@jupyter-widgets/base",
            "_view_module_version": "1.2.0",
            "_view_name": "LayoutView",
            "align_content": null,
            "align_items": null,
            "align_self": null,
            "border": null,
            "bottom": null,
            "display": null,
            "flex": null,
            "flex_flow": null,
            "grid_area": null,
            "grid_auto_columns": null,
            "grid_auto_flow": null,
            "grid_auto_rows": null,
            "grid_column": null,
            "grid_gap": null,
            "grid_row": null,
            "grid_template_areas": null,
            "grid_template_columns": null,
            "grid_template_rows": null,
            "height": null,
            "justify_content": null,
            "justify_items": null,
            "left": null,
            "margin": null,
            "max_height": null,
            "max_width": null,
            "min_height": null,
            "min_width": null,
            "object_fit": null,
            "object_position": null,
            "order": null,
            "overflow": null,
            "overflow_x": null,
            "overflow_y": null,
            "padding": null,
            "right": null,
            "top": null,
            "visibility": null,
            "width": null
          }
        },
        "03ca4f2b0bf94f969ae34bcab25a67fa": {
          "model_module": "@jupyter-widgets/controls",
          "model_name": "DescriptionStyleModel",
          "model_module_version": "1.5.0",
          "state": {
            "_model_module": "@jupyter-widgets/controls",
            "_model_module_version": "1.5.0",
            "_model_name": "DescriptionStyleModel",
            "_view_count": null,
            "_view_module": "@jupyter-widgets/base",
            "_view_module_version": "1.2.0",
            "_view_name": "StyleView",
            "description_width": ""
          }
        },
        "82eaf71bd675484da864465b69db86e8": {
          "model_module": "@jupyter-widgets/controls",
          "model_name": "HBoxModel",
          "model_module_version": "1.5.0",
          "state": {
            "_dom_classes": [],
            "_model_module": "@jupyter-widgets/controls",
            "_model_module_version": "1.5.0",
            "_model_name": "HBoxModel",
            "_view_count": null,
            "_view_module": "@jupyter-widgets/controls",
            "_view_module_version": "1.5.0",
            "_view_name": "HBoxView",
            "box_style": "",
            "children": [
              "IPY_MODEL_135287ab7f034ef39d3751b9e070cd03",
              "IPY_MODEL_a46c5a32954e4e399b9783f37fe4b174",
              "IPY_MODEL_f183a03dcad544288d731b77ecba0acc"
            ],
            "layout": "IPY_MODEL_cc1c56e4b4b64b68801da12f6e6e130f"
          }
        },
        "135287ab7f034ef39d3751b9e070cd03": {
          "model_module": "@jupyter-widgets/controls",
          "model_name": "HTMLModel",
          "model_module_version": "1.5.0",
          "state": {
            "_dom_classes": [],
            "_model_module": "@jupyter-widgets/controls",
            "_model_module_version": "1.5.0",
            "_model_name": "HTMLModel",
            "_view_count": null,
            "_view_module": "@jupyter-widgets/controls",
            "_view_module_version": "1.5.0",
            "_view_name": "HTMLView",
            "description": "",
            "description_tooltip": null,
            "layout": "IPY_MODEL_b2173149024c4d9091b6ac0f1f3238f2",
            "placeholder": "​",
            "style": "IPY_MODEL_bc9f10c44dd3434e9cdb1e4276b23d2a",
            "value": "Fetching 1 files: 100%"
          }
        },
        "a46c5a32954e4e399b9783f37fe4b174": {
          "model_module": "@jupyter-widgets/controls",
          "model_name": "FloatProgressModel",
          "model_module_version": "1.5.0",
          "state": {
            "_dom_classes": [],
            "_model_module": "@jupyter-widgets/controls",
            "_model_module_version": "1.5.0",
            "_model_name": "FloatProgressModel",
            "_view_count": null,
            "_view_module": "@jupyter-widgets/controls",
            "_view_module_version": "1.5.0",
            "_view_name": "ProgressView",
            "bar_style": "success",
            "description": "",
            "description_tooltip": null,
            "layout": "IPY_MODEL_b26448d1f30f4750a2068e33917a0e0f",
            "max": 1,
            "min": 0,
            "orientation": "horizontal",
            "style": "IPY_MODEL_8be32a71b8224da3892af4defa8cb5c1",
            "value": 1
          }
        },
        "f183a03dcad544288d731b77ecba0acc": {
          "model_module": "@jupyter-widgets/controls",
          "model_name": "HTMLModel",
          "model_module_version": "1.5.0",
          "state": {
            "_dom_classes": [],
            "_model_module": "@jupyter-widgets/controls",
            "_model_module_version": "1.5.0",
            "_model_name": "HTMLModel",
            "_view_count": null,
            "_view_module": "@jupyter-widgets/controls",
            "_view_module_version": "1.5.0",
            "_view_name": "HTMLView",
            "description": "",
            "description_tooltip": null,
            "layout": "IPY_MODEL_76b4f6f1ab8043fdadce86849585b2d3",
            "placeholder": "​",
            "style": "IPY_MODEL_ad28e60b3ed347008bcd6bafd67e2629",
            "value": " 1/1 [00:00&lt;00:00, 69.63it/s]"
          }
        },
        "cc1c56e4b4b64b68801da12f6e6e130f": {
          "model_module": "@jupyter-widgets/base",
          "model_name": "LayoutModel",
          "model_module_version": "1.2.0",
          "state": {
            "_model_module": "@jupyter-widgets/base",
            "_model_module_version": "1.2.0",
            "_model_name": "LayoutModel",
            "_view_count": null,
            "_view_module": "@jupyter-widgets/base",
            "_view_module_version": "1.2.0",
            "_view_name": "LayoutView",
            "align_content": null,
            "align_items": null,
            "align_self": null,
            "border": null,
            "bottom": null,
            "display": null,
            "flex": null,
            "flex_flow": null,
            "grid_area": null,
            "grid_auto_columns": null,
            "grid_auto_flow": null,
            "grid_auto_rows": null,
            "grid_column": null,
            "grid_gap": null,
            "grid_row": null,
            "grid_template_areas": null,
            "grid_template_columns": null,
            "grid_template_rows": null,
            "height": null,
            "justify_content": null,
            "justify_items": null,
            "left": null,
            "margin": null,
            "max_height": null,
            "max_width": null,
            "min_height": null,
            "min_width": null,
            "object_fit": null,
            "object_position": null,
            "order": null,
            "overflow": null,
            "overflow_x": null,
            "overflow_y": null,
            "padding": null,
            "right": null,
            "top": null,
            "visibility": null,
            "width": null
          }
        },
        "b2173149024c4d9091b6ac0f1f3238f2": {
          "model_module": "@jupyter-widgets/base",
          "model_name": "LayoutModel",
          "model_module_version": "1.2.0",
          "state": {
            "_model_module": "@jupyter-widgets/base",
            "_model_module_version": "1.2.0",
            "_model_name": "LayoutModel",
            "_view_count": null,
            "_view_module": "@jupyter-widgets/base",
            "_view_module_version": "1.2.0",
            "_view_name": "LayoutView",
            "align_content": null,
            "align_items": null,
            "align_self": null,
            "border": null,
            "bottom": null,
            "display": null,
            "flex": null,
            "flex_flow": null,
            "grid_area": null,
            "grid_auto_columns": null,
            "grid_auto_flow": null,
            "grid_auto_rows": null,
            "grid_column": null,
            "grid_gap": null,
            "grid_row": null,
            "grid_template_areas": null,
            "grid_template_columns": null,
            "grid_template_rows": null,
            "height": null,
            "justify_content": null,
            "justify_items": null,
            "left": null,
            "margin": null,
            "max_height": null,
            "max_width": null,
            "min_height": null,
            "min_width": null,
            "object_fit": null,
            "object_position": null,
            "order": null,
            "overflow": null,
            "overflow_x": null,
            "overflow_y": null,
            "padding": null,
            "right": null,
            "top": null,
            "visibility": null,
            "width": null
          }
        },
        "bc9f10c44dd3434e9cdb1e4276b23d2a": {
          "model_module": "@jupyter-widgets/controls",
          "model_name": "DescriptionStyleModel",
          "model_module_version": "1.5.0",
          "state": {
            "_model_module": "@jupyter-widgets/controls",
            "_model_module_version": "1.5.0",
            "_model_name": "DescriptionStyleModel",
            "_view_count": null,
            "_view_module": "@jupyter-widgets/base",
            "_view_module_version": "1.2.0",
            "_view_name": "StyleView",
            "description_width": ""
          }
        },
        "b26448d1f30f4750a2068e33917a0e0f": {
          "model_module": "@jupyter-widgets/base",
          "model_name": "LayoutModel",
          "model_module_version": "1.2.0",
          "state": {
            "_model_module": "@jupyter-widgets/base",
            "_model_module_version": "1.2.0",
            "_model_name": "LayoutModel",
            "_view_count": null,
            "_view_module": "@jupyter-widgets/base",
            "_view_module_version": "1.2.0",
            "_view_name": "LayoutView",
            "align_content": null,
            "align_items": null,
            "align_self": null,
            "border": null,
            "bottom": null,
            "display": null,
            "flex": null,
            "flex_flow": null,
            "grid_area": null,
            "grid_auto_columns": null,
            "grid_auto_flow": null,
            "grid_auto_rows": null,
            "grid_column": null,
            "grid_gap": null,
            "grid_row": null,
            "grid_template_areas": null,
            "grid_template_columns": null,
            "grid_template_rows": null,
            "height": null,
            "justify_content": null,
            "justify_items": null,
            "left": null,
            "margin": null,
            "max_height": null,
            "max_width": null,
            "min_height": null,
            "min_width": null,
            "object_fit": null,
            "object_position": null,
            "order": null,
            "overflow": null,
            "overflow_x": null,
            "overflow_y": null,
            "padding": null,
            "right": null,
            "top": null,
            "visibility": null,
            "width": null
          }
        },
        "8be32a71b8224da3892af4defa8cb5c1": {
          "model_module": "@jupyter-widgets/controls",
          "model_name": "ProgressStyleModel",
          "model_module_version": "1.5.0",
          "state": {
            "_model_module": "@jupyter-widgets/controls",
            "_model_module_version": "1.5.0",
            "_model_name": "ProgressStyleModel",
            "_view_count": null,
            "_view_module": "@jupyter-widgets/base",
            "_view_module_version": "1.2.0",
            "_view_name": "StyleView",
            "bar_color": null,
            "description_width": ""
          }
        },
        "76b4f6f1ab8043fdadce86849585b2d3": {
          "model_module": "@jupyter-widgets/base",
          "model_name": "LayoutModel",
          "model_module_version": "1.2.0",
          "state": {
            "_model_module": "@jupyter-widgets/base",
            "_model_module_version": "1.2.0",
            "_model_name": "LayoutModel",
            "_view_count": null,
            "_view_module": "@jupyter-widgets/base",
            "_view_module_version": "1.2.0",
            "_view_name": "LayoutView",
            "align_content": null,
            "align_items": null,
            "align_self": null,
            "border": null,
            "bottom": null,
            "display": null,
            "flex": null,
            "flex_flow": null,
            "grid_area": null,
            "grid_auto_columns": null,
            "grid_auto_flow": null,
            "grid_auto_rows": null,
            "grid_column": null,
            "grid_gap": null,
            "grid_row": null,
            "grid_template_areas": null,
            "grid_template_columns": null,
            "grid_template_rows": null,
            "height": null,
            "justify_content": null,
            "justify_items": null,
            "left": null,
            "margin": null,
            "max_height": null,
            "max_width": null,
            "min_height": null,
            "min_width": null,
            "object_fit": null,
            "object_position": null,
            "order": null,
            "overflow": null,
            "overflow_x": null,
            "overflow_y": null,
            "padding": null,
            "right": null,
            "top": null,
            "visibility": null,
            "width": null
          }
        },
        "ad28e60b3ed347008bcd6bafd67e2629": {
          "model_module": "@jupyter-widgets/controls",
          "model_name": "DescriptionStyleModel",
          "model_module_version": "1.5.0",
          "state": {
            "_model_module": "@jupyter-widgets/controls",
            "_model_module_version": "1.5.0",
            "_model_name": "DescriptionStyleModel",
            "_view_count": null,
            "_view_module": "@jupyter-widgets/base",
            "_view_module_version": "1.2.0",
            "_view_name": "StyleView",
            "description_width": ""
          }
        }
      }
    }
  },
  "cells": [
    {
      "cell_type": "markdown",
      "metadata": {
        "id": "view-in-github",
        "colab_type": "text"
      },
      "source": [
        "<a href=\"https://colab.research.google.com/github/aiatoz/NLP/blob/main/WebQueryEngine/base.ipynb\" target=\"_parent\"><img src=\"https://colab.research.google.com/assets/colab-badge.svg\" alt=\"Open In Colab\"/></a>"
      ]
    },
    {
      "cell_type": "markdown",
      "source": [
        "#This is an open source project to ground an LLM on Web Data for querying\n",
        "\n",
        "Due to limited compute I've restricted the context length to 2048. Feel free to increase it if you've enough computing power. The default context length of 2048 will work just fine with a T4 GPU\n",
        "\n",
        "For more details reagrding the libraries used, please refer\n",
        "\n",
        "Url lib : https://pypi.org/project/urllib3/\n",
        "\n",
        "BeautifulSoup : https://pypi.org/project/beautifulsoup4/\n",
        "\n",
        "ctransformers : https://pypi.org/project/ctransformers/"
      ],
      "metadata": {
        "id": "FxKm9uQ3tfzA"
      }
    },
    {
      "cell_type": "code",
      "source": [
        "# -*- coding: utf-8 -*-\n",
        "\"\"\"\n",
        "Created on Sat Oct 28 14:18:34 2023\n",
        "\n",
        "@author: Krishna\n",
        "\"\"\"\n",
        "\n",
        "\n",
        "#Installing dependencies\n",
        "\n",
        "!pip install urllib3\n",
        "!pip install ctransformers[cuda]"
      ],
      "metadata": {
        "id": "Y0mYmkFtsuyY"
      },
      "execution_count": null,
      "outputs": []
    },
    {
      "cell_type": "markdown",
      "source": [
        "Scraping and filtering out data"
      ],
      "metadata": {
        "id": "ZjdILjVnt14P"
      }
    },
    {
      "cell_type": "code",
      "execution_count": 14,
      "metadata": {
        "id": "leaX9gy6oJ-W",
        "colab": {
          "base_uri": "https://localhost:8080/"
        },
        "outputId": "9733b286-78ca-45cd-b802-889222c20d1a"
      },
      "outputs": [
        {
          "output_type": "stream",
          "name": "stdout",
          "text": [
            "                        AI               AI    Why AI       Responsibility             Responsibility      AI Principles  Objectives for building beneficial AI        Responsible AI Practices  Guiding responsible AI development        AI Governance & Operations  Our review and approval process        Social Good  Addressing societal challenges with AI        Policy  Our contributions to AI Governance          FEATURED RESEARCH   AI for the benefit of humanity      EXAMPLES OF OUR WORK   Improving skin tone evaluation in machine learning to uphold our AI principles           Discover             Discover    Ai across Google   Foundation Models  Learn more about our models    Generative AI  How teams at Google are using AI    PaLM 2  Next generation large language model    Quantum AI  Building a useful quantum computer        Learn   Research  AI publications, tools, and datasets        Blogs   AI Blogs  Current news and stories from Google            FEATURED CONTENT   Learn more about our PaLM model           Build                    Making AI helpful for everyone  Our approach to developing and harnessing artificial intelligence    Why AI           See our latest news                             Explore the site  Watch the story                  Explore an overview of Bard  Visit bard.google.com  Latest updates                     Lab Sessions: A new series of experimental AI collaborations  What happens when you put AI in the hands of dancers, teachers, rappers, artists, oceanographers, photographers, entrepreneurs, and other visionaries?   Learn more  Explore the series                     Introducing our next generation large language model  PaLM 2 is our next generation large language model that builds on Google’s legacy of breakthrough research in machine learning and responsible AI. Learn more about how PaLM 2 powers Google's generative AI features and tools like Bard and the PaLM API.                    Our quantum error correction milestone  The Google Quantum AI team has made an important step towards the development of a large-scale useful quantum computer. This breakthrough is the first demonstration of a logical qubit prototype, showing that it’s possible to reduce errors by increasing the number of qubits in a scheme known as quantum error correction.                      The story behind the skin tone work at Google  Make better, more inclusive AI with the Monk Skin Tone Scale–a free development tool from Google Responsible AI.                   About   Bringing the benefits of AI to everyone    Google's mission has always been to organize the world's information and make it universally accessible and useful. We're excited about the transformational power of AI and the helpful new ways it can be applied. From research that expands what's possible, to product integrations designed to make everyday things easier, and applying AI to make a difference in the lives of those who need it most-we're committed to responsible innovation and technologies that benefit all of humanity.              We want to use AI to augment the abilities of people, to enable us to accomplish more and to allow us to spend more time on our creative endeavors.  Jeff Dean,  Google Senior Fellow                    About   Bringing the benefits of AI to everyone    Google's mission has always been to organize the world's information and make it universally accessible and useful. We're excited about the transformational power of AI and the helpful new ways it can be applied. From research that expands what's possible, to product integrations designed to make everyday things easier, and applying AI to make a difference in the lives of those who need it most-we're committed to responsible innovation and technologies that benefit all of humanity.         We want to use AI to augment the abilities of people, to enable us to accomplish more and to allow us to spend more time on our creative endeavors.     Jeff Dean,  Google Senior Fellow                  Responsibilities      Responsibilities    Learn about how we're working to develop AI responsibly to benefit people and society.         Research      Research    Learn about how our research teams are advancing the state-of-the- art in computer science to empower billions of users every day.                  Generative AI       Generative AI    Explore how teams at Google are using AI to create innovative new products and services.         Machine Learning       Machine Learning    Build and explore machine learning solutions with our ecosystem of open-source tools, datasets, APIs and more.                  Social Good       Social Good    Applying AI to make a difference in the lives of those who need it most.         Try Google's latest experiments in Labs      Try Google's latest experiments in Labs    Test early-stage AI experiments and help shape the future of technology.                         Privacy  Terms  About Google  Google Products  Cookies management controls    Feedback           \n"
          ]
        }
      ],
      "source": [
        "from bs4 import BeautifulSoup\n",
        "from bs4.element import Comment\n",
        "import urllib3\n",
        "\n",
        "\n",
        "def filterTag(element):\n",
        "    if element.parent.name in ['style', 'script', 'head', 'title', 'meta', '[document]']:\n",
        "        return False\n",
        "    if isinstance(element, Comment):\n",
        "        return False\n",
        "    return True\n",
        "\n",
        "\n",
        "def htmlToText(body):\n",
        "    soup = BeautifulSoup(body, 'html.parser')\n",
        "    texts = soup.find_all(string=True)\n",
        "    visible_texts = filter(filterTag, texts)\n",
        "    return u\" \".join(t.strip() for t in visible_texts)\n",
        "\n",
        "req = urllib3.PoolManager()\n",
        "response = req.request('GET', \"https://ai.google/\")\n",
        "htmlContent = response.data\n",
        "\n",
        "scrapedText = htmlToText(htmlContent)\n",
        "#print(scrapedText)\n",
        "print(scrapedText)"
      ]
    },
    {
      "cell_type": "markdown",
      "source": [
        "#Loading and using the LLM\n",
        "\n",
        "The LLM used here is Mistral 7b which is a light LLM that can even run on a consumer end GPU"
      ],
      "metadata": {
        "id": "_56NMAYY3gBv"
      }
    },
    {
      "cell_type": "code",
      "source": [
        "from ctransformers import AutoModelForCausalLM\n",
        "llm = AutoModelForCausalLM.from_pretrained(\"TheBloke/Mistral-7B-Instruct-v0.1-GGUF\", model_file=\"mistral-7b-instruct-v0.1.Q4_K_M.gguf\", model_type = \"mistral\", gpu_layers = 50, context_length=2048)\n"
      ],
      "metadata": {
        "id": "vbQkuhs-2mSH",
        "colab": {
          "base_uri": "https://localhost:8080/",
          "height": 81,
          "referenced_widgets": [
            "b7f8b3961f684aff83686f7fa4721294",
            "59557f2f880b43019359aa34e904404c",
            "b7d55e536b8849999302cac636da9fbd",
            "4a02a53282c049399694c954482bff37",
            "c26ebdbccdfe49afafa890eef40ce570",
            "bd04125bd4bc4d19bebd27115637acc1",
            "4298b8ff7d234ef5a0279d8e08fa6807",
            "5becf8e29ab344e08d93478f60a6df98",
            "883d3c0c47bf455bb41e1e7714a5a795",
            "1b33c4440d3e4a2aae5cf46c5e3f0fa2",
            "03ca4f2b0bf94f969ae34bcab25a67fa",
            "82eaf71bd675484da864465b69db86e8",
            "135287ab7f034ef39d3751b9e070cd03",
            "a46c5a32954e4e399b9783f37fe4b174",
            "f183a03dcad544288d731b77ecba0acc",
            "cc1c56e4b4b64b68801da12f6e6e130f",
            "b2173149024c4d9091b6ac0f1f3238f2",
            "bc9f10c44dd3434e9cdb1e4276b23d2a",
            "b26448d1f30f4750a2068e33917a0e0f",
            "8be32a71b8224da3892af4defa8cb5c1",
            "76b4f6f1ab8043fdadce86849585b2d3",
            "ad28e60b3ed347008bcd6bafd67e2629"
          ]
        },
        "outputId": "416a888e-d6b9-4444-e1cd-b59631bce112"
      },
      "execution_count": 15,
      "outputs": [
        {
          "output_type": "display_data",
          "data": {
            "text/plain": [
              "Fetching 1 files:   0%|          | 0/1 [00:00<?, ?it/s]"
            ],
            "application/vnd.jupyter.widget-view+json": {
              "version_major": 2,
              "version_minor": 0,
              "model_id": "b7f8b3961f684aff83686f7fa4721294"
            }
          },
          "metadata": {}
        },
        {
          "output_type": "display_data",
          "data": {
            "text/plain": [
              "Fetching 1 files:   0%|          | 0/1 [00:00<?, ?it/s]"
            ],
            "application/vnd.jupyter.widget-view+json": {
              "version_major": 2,
              "version_minor": 0,
              "model_id": "82eaf71bd675484da864465b69db86e8"
            }
          },
          "metadata": {}
        }
      ]
    },
    {
      "cell_type": "code",
      "source": [
        "query = input(\"Enter the question :\")\n",
        "\n",
        "Content = \"\"\"<s>[INST]\n",
        "The data enclosed in tilde symbol is a web scraped output. Avoid the unnecessary parts such as 'Jump to content', 'Main menu', 'Navigation' etc,\n",
        "that usually occures in websites.\n",
        "\n",
        "Based on the data answer the queries. The answers needs to be short and simple, and don't have to mention the question again in the answer\n",
        "\n",
        "Web Data : ~\n",
        "{}\n",
        "~\n",
        "\n",
        "Query : {}\n",
        "\n",
        "[/INST]\"\"\".format(scrapedText, query)\n",
        "\n",
        "#To enable chat, you can just append the messages, the context will act like a memory, and clearing it will automatically wipe the memory out\n",
        "#print(llm(Content))\n",
        "\n",
        "print(llm(Content))"
      ],
      "metadata": {
        "colab": {
          "base_uri": "https://localhost:8080/"
        },
        "id": "YcuZgDCb48FJ",
        "outputId": "c630e9d2-7a4d-49fd-de71-c5b5739d25d0"
      },
      "execution_count": 17,
      "outputs": [
        {
          "output_type": "stream",
          "name": "stdout",
          "text": [
            "Enter the question :Write a summary\n",
            " Google is using AI to develop and harness artificial intelligence for the benefit of humanity. They are committed to responsible innovation and technologies that benefit all of humanity. Their mission is to organize the world's information and make it universally accessible and useful. They are working to develop AI responsibly to benefit people and society by exploring ways in which they can apply AI to create innovative new products and services, improve their user experience and provide valuable social impact through their work.\n"
          ]
        }
      ]
    },
    {
      "cell_type": "code",
      "source": [],
      "metadata": {
        "id": "ToTWBchYNZ8n"
      },
      "execution_count": null,
      "outputs": []
    }
  ]
}